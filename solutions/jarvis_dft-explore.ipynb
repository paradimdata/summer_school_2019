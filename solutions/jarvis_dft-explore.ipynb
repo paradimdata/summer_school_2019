{
 "cells": [
  {
   "cell_type": "markdown",
   "metadata": {},
   "source": [
    "# Exploring data in JARVIS-DFT"
   ]
  },
  {
   "cell_type": "markdown",
   "metadata": {},
   "source": [
    "INSTRUCTIONS:\n",
    "First, install the jarvis-tools following https://github.com/usnistgov/jarvis/blob/master/README.rst \n",
    "Then, download the latest JSON files below.\n",
    "In the current version of the jarvis-tools, one case use \"explore_db.py\" code to automatically load the datasets as well.\n",
    "3D-materials JSON file: https://figshare.com/articles/jdft_3d-7-7-2018_json/6815699\n",
    "2D-materials JSON file: https://figshare.com/articles/jdft_2d-7-7-2018_json/6815705\n"
   ]
  },
  {
   "cell_type": "code",
   "execution_count": 1,
   "metadata": {},
   "outputs": [],
   "source": [
    "from monty.serialization import loadfn, MontyDecoder,MontyEncoder\n",
    "import matplotlib.pyplot as plt\n",
    "plt.switch_backend('agg')\n",
    "import json,math,os\n",
    "import numpy as np\n",
    "import pandas as pd\n",
    "import pprint\n",
    "# from jarvis.db.static.explore_db import get_3d_dataset,get_2d_dataset\n",
    "\n",
    "dat_3d = loadfn('jdft_3d-6-6-2019.json',cls=MontyDecoder) # or, dat_3d = get_3d_dataset()\n",
    "dat_2d = loadfn('jdft_2d-6-6-2019.json',cls=MontyDecoder) # or, dat_2d = get_2d_dataset"
   ]
  },
  {
   "cell_type": "code",
   "execution_count": 2,
   "metadata": {},
   "outputs": [
    {
     "data": {
      "text/plain": [
       "(32486, 754)"
      ]
     },
     "execution_count": 2,
     "metadata": {},
     "output_type": "execute_result"
    }
   ],
   "source": [
    "# Size of the data for the 3D and 2D datasets. One could loop over them.\n",
    "len(dat_3d),len(dat_2d)"
   ]
  },
  {
   "cell_type": "markdown",
   "metadata": {},
   "source": [
    "Each element in the data is a key-value pair based dictionary.\n",
    "\n",
    "form_enp: formation energy per atom (eV/atom),\n",
    "op_gap  : OptB88vdW functional based bandgap (eV),\n",
    "mbj_gap : TBmBJ functional based bandgap (eV),\n",
    "kv      : Voigt bulk mod. (GPa),\n",
    "gv      : Shear bulk mod. (GPa),\n",
    "elastic : elastic tensor instring format, use the function 'get_et' to convert into pymatgen elastictensor object,\n",
    "epsx    : Static dielctric function value in x-direction based on OptB88vdW (no unit),\n",
    "mepsx   : Static dielctric function value in x-direction based on TBmBJ (no unit),\n",
    "magmom  : Magnetic moment (Bohr magneton) (from OUTCAR and from OSZICAR), generally OSZICAR value is preferred, no DFT+U,\n",
    "kp_len  : Kpoint automatic line density obtained after automatic convergence (Angstrom), substract 25 because 5 extra points,\n",
    "encut   : Plane wave cut-off value obtained after automatic convergence,\n",
    "exfoliation_en: exfoliation energy,\n",
    "phi     : 2D work-function related values,\n",
    "final_str: final structure after relaxation with OptB88vdW,\n",
    "eff_mass: effective mass with BoltzTrap at 300K,\n",
    "spillage: spin-orbit spillage as measure of band-inversion.\n",
    "Here 'na' signifies non-available data# Each element in the data is a key-value pair based dictionary.\n",
    "\n",
    "\n"
   ]
  },
  {
   "cell_type": "code",
   "execution_count": 3,
   "metadata": {},
   "outputs": [
    {
     "name": "stdout",
     "output_type": "stream",
     "text": [
      "fin_en 32486\n",
      "magmom 30787\n",
      "eff_mass 32486\n",
      "form_enp 32486\n",
      "gv 13492\n",
      "kv 13492\n",
      "op_gap 29672\n",
      "mbj_gap 9089\n",
      "epsx 29672\n",
      "epsy 29672\n",
      "epsz 29672\n",
      "mepsx 14410\n",
      "mepsy 14410\n",
      "mepsz 14410\n",
      "spillage 4648\n"
     ]
    }
   ],
   "source": [
    "# Some of the avilable data for 3D and their sizes\n",
    "keys=['gv','kv','fin_en','op_gap','mbj_gap','magmom','epsx','epsy','epsz','mepsx',\n",
    "      'mepsy','mepsz','eff_mass','form_enp','spillage']\n",
    "info={}\n",
    "for i in dat_3d:\n",
    "  for j in keys:\n",
    "     if i[j]!='na' and i[j]!={}:\n",
    "            info.setdefault(j, []).append(i['jid'])\n",
    "for i,j in info.items():\n",
    "    print (i,len(j))\n"
   ]
  },
  {
   "cell_type": "code",
   "execution_count": 4,
   "metadata": {},
   "outputs": [
    {
     "name": "stdout",
     "output_type": "stream",
     "text": [
      "phi 754\n",
      "magmom 754\n",
      "fin_en 754\n",
      "exfoliation_en 754\n",
      "form_enp 754\n",
      "op_gap 623\n",
      "elastic 343\n",
      "epsx 623\n",
      "epsy 623\n",
      "epsz 623\n",
      "mepsz 167\n",
      "mepsx 167\n",
      "mepsy 167\n",
      "mbj_gap 128\n",
      "{'nelect': 38, 'phi': 4.8566275698291665, 'scf_vbm': -2.7183, 'scf_cbm': -1.235, 'Ef': -1.9703781, 'scf_gap': 1.4833, 'avg_max': 2.8862494698291665, 'scf_dir': False}\n"
     ]
    }
   ],
   "source": [
    "# Some of the avilable data for 2D\n",
    "keys=['phi','magmom', 'fin_en', 'op_gap',  'exfoliation_en', 'elastic', \n",
    "      'mepsz', 'mepsx', 'mepsy', 'form_enp', 'epsx', 'epsy', 'epsz', 'mbj_gap']\n",
    "info={}\n",
    "for i in dat_2d:\n",
    "  for j in keys:\n",
    "     if i[j]!='na' and i[j]!={}:\n",
    "            info.setdefault(j, []).append(i['jid'])\n",
    "for i,j in info.items():\n",
    "    print (i,len(j))\n",
    "# Band-alginment data for a 2D material\n",
    "print (dat_2d[0]['phi'])"
   ]
  },
  {
   "cell_type": "markdown",
   "metadata": {},
   "source": [
    "Query example: find 5 materials with spillage>0.5 and prototype 'A2B3' and bandgap>=0.05,<2.0"
   ]
  },
  {
   "cell_type": "code",
   "execution_count": 5,
   "metadata": {},
   "outputs": [
    {
     "name": "stdout",
     "output_type": "stream",
     "text": [
      "[['Bi2Se3', 'Pnma'], ['Bi2Te3', 'R-3m'], ['Ca3Sb2', 'Pm-3m'], ['Sr3Bi2', 'Pm-3m'], ['Ca3Bi2', 'Pm-3m']]\n"
     ]
    }
   ],
   "source": [
    "from pymatgen.symmetry.analyzer import SpacegroupAnalyzer\n",
    "forms=[]\n",
    "for i in dat_3d:\n",
    "    ano_formula=i['final_str'].composition.anonymized_formula\n",
    "    formula=i['final_str'].composition.reduced_formula\n",
    "    gap=i['op_gap'] # or i['phi']['scf_gap']\n",
    "    if i['spillage']!='na' and i['spillage']>=0.5 and gap !='na' \\\n",
    "    and gap>=0.05 and gap<2.0 and ano_formula=='A2B3' and formula not in forms :\n",
    "        spg=SpacegroupAnalyzer(i['final_str']).get_space_group_symbol()\n",
    "        val=[formula,spg]\n",
    "        forms.append(val)\n",
    "        if len(forms)==5:\n",
    "            break\n",
    "print (forms)"
   ]
  },
  {
   "cell_type": "code",
   "execution_count": 6,
   "metadata": {},
   "outputs": [
    {
     "data": {
      "image/png": "[encoded data removed]",
      "text/plain": [
       "<Figure size 720x576 with 16 Axes>"
      ]
     },
     "metadata": {
      "needs_background": "light"
     },
     "output_type": "display_data"
    }
   ],
   "source": [
    "# Example of plots that could be made using the JSON file:\n",
    "%matplotlib inline\n",
    "from matplotlib import pyplot as plt\n",
    "fig, ax = plt.subplots(figsize=(10,8),nrows=4, ncols=4)\n",
    "props={'form_enp':[ax[0,0],.1,[-5,5]],'op_gap':[ax[0,1],.1,[0,10]],'mbj_gap':[ax[0,2],.1,[0,10]],\n",
    "       'magmom':[ax[0,3],.5,[0,20]],'kv':[ax[1,0],5,[-2,500]],'gv':[ax[1,1],5,[-15,100]],\n",
    "       'epsx':[ax[1,2],1,[0,50]],'epsy':[ax[1,3],1,[0,50]],'epsz':[ax[2,0],1,[0,50]],\n",
    "       'mepsx':[ax[2,1],1,[0,50]],'mepsy':[ax[2,2],1,[0,50]],'kp_leng':[ax[2,3],10,[10,200]],\n",
    "       'spillage':[ax[3,1],.5,[0,5]],'spillage':[ax[3,0],.5,[0,5]]}\n",
    "\n",
    "info={}\n",
    "for i in dat_3d:\n",
    " for j in props.keys():\n",
    "    if i[j]!='na' and i[j]!={} :\n",
    "      if j=='magmom':\n",
    "        val=i['magmom']['magmom_osz']\n",
    "      else:\n",
    "       if not math.isinf(i[j]):\n",
    "         val=i[j]\n",
    "      info.setdefault(j, []).append(val)\n",
    "\n",
    "\n",
    "for i,j in info.items():\n",
    "  \n",
    "  max_val=props[i][2][1]\n",
    "  min_val=props[i][2][0]\n",
    "  interval=props[i][1]\n",
    "  hist, bins = np.histogram(j,bins=np.arange(min_val, max_val , interval), density=False)\n",
    "  ax=props[i][0]\n",
    "  ax.bar(bins[:-1],hist)\n",
    "  ax.set_title(i)\n",
    "  ax.set_yticks([])\n",
    "\n",
    "plt.tight_layout()\n",
    "\n"
   ]
  },
  {
   "cell_type": "markdown",
   "metadata": {},
   "source": [
    "Compare Optb88vdW and TbmBJ. TBmBJ values are generally closer to experiments."
   ]
  },
  {
   "cell_type": "code",
   "execution_count": 7,
   "metadata": {},
   "outputs": [
    {
     "data": {
      "text/plain": [
       "Text(0,0.5,'OptB88vdW bandgap (eV)')"
      ]
     },
     "execution_count": 7,
     "metadata": {},
     "output_type": "execute_result"
    },
    {
     "data": {
      "image/png": "[encoded data removed]",
      "text/plain": [
       "<Figure size 432x288 with 1 Axes>"
      ]
     },
     "metadata": {
      "needs_background": "light"
     },
     "output_type": "display_data"
    }
   ],
   "source": [
    "fig, ax = plt.subplots()\n",
    "mbj=[]\n",
    "opt=[]\n",
    "for i in dat_3d:\n",
    "    if i['op_gap']!='na' and i['mbj_gap']!='na':\n",
    "        opt.append(i['op_gap'])\n",
    "        mbj.append(i['mbj_gap'])\n",
    "        \n",
    "plt.plot(mbj,mbj)\n",
    "plt.plot(mbj,opt,'*')\n",
    "plt.xlabel('TB-mBJ bandgap (eV)')\n",
    "plt.ylabel('OptB88vdW bandgap (eV)')"
   ]
  },
  {
   "cell_type": "code",
   "execution_count": 8,
   "metadata": {},
   "outputs": [
    {
     "name": "stdout",
     "output_type": "stream",
     "text": [
      "Poisson ratio, anisotropy 0.2468881595731997 1.9263993609180625\n",
      "JVASP-4666 mp-10009 GaTe\n"
     ]
    }
   ],
   "source": [
    "#Example of getting elastic tensor object\n",
    "from pymatgen.analysis.elasticity.elastic import ElasticTensor\n",
    "def get_et(elast_str=''):\n",
    "    cij=np.empty((6, 6), dtype=float)\n",
    "    elast=np.array(elast_str.split(','),dtype='float')\n",
    "    count=0\n",
    "    for ii in range(6):\n",
    "      for jj in range(6):\n",
    "       cij[ii][jj]=elast[count]\n",
    "       count=count+1\n",
    "    et=ElasticTensor.from_voigt(cij)\n",
    "    return et\n",
    "for i in dat_3d:\n",
    "    if i['elastic']!='na': #In case some data is unavailable we call it 'na'\n",
    "        el_tens=get_et(i['elastic'])\n",
    "        break\n",
    "#print (el_tens)\n",
    "print ('Poisson ratio, anisotropy',el_tens.homogeneous_poisson, el_tens.universal_anisotropy)\n",
    "print (i['jid'],i['mpid'],i['final_str'].composition.reduced_formula)"
   ]
  },
  {
   "cell_type": "code",
   "execution_count": 9,
   "metadata": {},
   "outputs": [],
   "source": [
    "# Using pandas dataframe"
   ]
  },
  {
   "cell_type": "code",
   "execution_count": 10,
   "metadata": {},
   "outputs": [],
   "source": [
    "jid, opgap, mbjgap, energy, magmom, exfen, url =[],[],[],[],[],[],[]"
   ]
  },
  {
   "cell_type": "code",
   "execution_count": 11,
   "metadata": {},
   "outputs": [
    {
     "data": {
      "text/plain": [
       "{'magmom_out': -0.0003851, 'magmom_osz': -0.0004}"
      ]
     },
     "execution_count": 11,
     "metadata": {},
     "output_type": "execute_result"
    }
   ],
   "source": [
    "dat_2d[0]['magmom']"
   ]
  },
  {
   "cell_type": "code",
   "execution_count": 12,
   "metadata": {},
   "outputs": [],
   "source": [
    "for i in dat_2d:\n",
    "    jid.append(i['jid'])\n",
    "    opgap.append(i['op_gap'])\n",
    "    mbjgap.append(i['mbj_gap'])\n",
    "    if i[\"magmom\"]!={}:\n",
    "      magmom.append(i[\"magmom\"]['magmom_osz'])\n",
    "    else:\n",
    "        magmom.append('na')\n",
    "    energy.append(i['fin_en'])\n",
    "    exfen.append(i['exfoliation_en'])\n",
    "    url.append(str(\"https://www.ctcms.nist.gov/~knc6/jsmol/\")+str(i['jid'])+str(\".html\"))"
   ]
  },
  {
   "cell_type": "code",
   "execution_count": 13,
   "metadata": {},
   "outputs": [],
   "source": [
    "headers = ['JARVIS_ID','OPT_Gap','MBJ_Gap','Magnetic_moment','Final_Energy','Exfoliation_Energy','URL']"
   ]
  },
  {
   "cell_type": "code",
   "execution_count": 14,
   "metadata": {},
   "outputs": [],
   "source": [
    "df = pd.DataFrame([jid,opgap,mbjgap,magmom,energy,exfen,url])"
   ]
  },
  {
   "cell_type": "code",
   "execution_count": 15,
   "metadata": {},
   "outputs": [],
   "source": [
    "df = df.transpose()\n",
    "df.columns = headers"
   ]
  },
  {
   "cell_type": "code",
   "execution_count": 16,
   "metadata": {},
   "outputs": [
    {
     "data": {
      "text/html": [
       "<div>\n",
       "<style scoped>\n",
       "    .dataframe tbody tr th:only-of-type {\n",
       "        vertical-align: middle;\n",
       "    }\n",
       "\n",
       "    .dataframe tbody tr th {\n",
       "        vertical-align: top;\n",
       "    }\n",
       "\n",
       "    .dataframe thead th {\n",
       "        text-align: right;\n",
       "    }\n",
       "</style>\n",
       "<table border=\"1\" class=\"dataframe\">\n",
       "  <thead>\n",
       "    <tr style=\"text-align: right;\">\n",
       "      <th></th>\n",
       "      <th>JARVIS_ID</th>\n",
       "      <th>OPT_Gap</th>\n",
       "      <th>MBJ_Gap</th>\n",
       "      <th>Magnetic_moment</th>\n",
       "      <th>Final_Energy</th>\n",
       "      <th>Exfoliation_Energy</th>\n",
       "      <th>URL</th>\n",
       "    </tr>\n",
       "  </thead>\n",
       "  <tbody>\n",
       "    <tr>\n",
       "      <th>0</th>\n",
       "      <td>JVASP-6838</td>\n",
       "      <td>na</td>\n",
       "      <td>na</td>\n",
       "      <td>-0.0004</td>\n",
       "      <td>-2.3674</td>\n",
       "      <td>65.9709</td>\n",
       "      <td>https://www.ctcms.nist.gov/~knc6/jsmol/JVASP-6...</td>\n",
       "    </tr>\n",
       "    <tr>\n",
       "      <th>1</th>\n",
       "      <td>JVASP-646</td>\n",
       "      <td>0.0801</td>\n",
       "      <td>na</td>\n",
       "      <td>0</td>\n",
       "      <td>-15.4095</td>\n",
       "      <td>92.9285</td>\n",
       "      <td>https://www.ctcms.nist.gov/~knc6/jsmol/JVASP-6...</td>\n",
       "    </tr>\n",
       "    <tr>\n",
       "      <th>2</th>\n",
       "      <td>JVASP-19510</td>\n",
       "      <td>0.2159</td>\n",
       "      <td>na</td>\n",
       "      <td>0</td>\n",
       "      <td>-13.2217</td>\n",
       "      <td>101.178</td>\n",
       "      <td>https://www.ctcms.nist.gov/~knc6/jsmol/JVASP-1...</td>\n",
       "    </tr>\n",
       "    <tr>\n",
       "      <th>3</th>\n",
       "      <td>JVASP-744</td>\n",
       "      <td>1.3617</td>\n",
       "      <td>na</td>\n",
       "      <td>0</td>\n",
       "      <td>-8.01276</td>\n",
       "      <td>107.579</td>\n",
       "      <td>https://www.ctcms.nist.gov/~knc6/jsmol/JVASP-7...</td>\n",
       "    </tr>\n",
       "    <tr>\n",
       "      <th>4</th>\n",
       "      <td>JVASP-5956</td>\n",
       "      <td>0.1358</td>\n",
       "      <td>na</td>\n",
       "      <td>0</td>\n",
       "      <td>-14.7688</td>\n",
       "      <td>96.4107</td>\n",
       "      <td>https://www.ctcms.nist.gov/~knc6/jsmol/JVASP-5...</td>\n",
       "    </tr>\n",
       "  </tbody>\n",
       "</table>\n",
       "</div>"
      ],
      "text/plain": [
       "     JARVIS_ID OPT_Gap MBJ_Gap Magnetic_moment Final_Energy  \\\n",
       "0   JVASP-6838      na      na         -0.0004      -2.3674   \n",
       "1    JVASP-646  0.0801      na               0     -15.4095   \n",
       "2  JVASP-19510  0.2159      na               0     -13.2217   \n",
       "3    JVASP-744  1.3617      na               0     -8.01276   \n",
       "4   JVASP-5956  0.1358      na               0     -14.7688   \n",
       "\n",
       "  Exfoliation_Energy                                                URL  \n",
       "0            65.9709  https://www.ctcms.nist.gov/~knc6/jsmol/JVASP-6...  \n",
       "1            92.9285  https://www.ctcms.nist.gov/~knc6/jsmol/JVASP-6...  \n",
       "2            101.178  https://www.ctcms.nist.gov/~knc6/jsmol/JVASP-1...  \n",
       "3            107.579  https://www.ctcms.nist.gov/~knc6/jsmol/JVASP-7...  \n",
       "4            96.4107  https://www.ctcms.nist.gov/~knc6/jsmol/JVASP-5...  "
      ]
     },
     "execution_count": 16,
     "metadata": {},
     "output_type": "execute_result"
    }
   ],
   "source": [
    "df.head()\n"
   ]
  },
  {
   "cell_type": "markdown",
   "metadata": {},
   "source": [
    "\n",
    "For more information go to the JARVIS-Homepage: https://jarvis.nist.gov\n",
    "\n",
    "Citations for the data:\n",
    "https://www.nature.com/articles/s41598-017-05402-0,\n",
    "https://www.nature.com/articles/sdata201882,\n",
    "https://journals.aps.org/prb/abstract/10.1103/PhysRevB.98.014107,\n",
    "https://linkinghub.elsevier.com/retrieve/pii/S0927025619300813,\n",
    "https://www.nature.com/articles/s41598-019-45028-y,\n",
    "\n",
    "Please read the NIST-disclaimer before using the data: https://www.nist.gov/disclaimer\n",
    "   "
   ]
  },
  {
   "cell_type": "code",
   "execution_count": null,
   "metadata": {},
   "outputs": [],
   "source": []
  }
 ],
 "metadata": {
  "anaconda-cloud": {},
  "kernelspec": {
   "display_name": "Python [conda env:root]",
   "language": "python",
   "name": "conda-root-py"
  },
  "language_info": {
   "codemirror_mode": {
    "name": "ipython",
    "version": 3
   },
   "file_extension": ".py",
   "mimetype": "text/x-python",
   "name": "python",
   "nbconvert_exporter": "python",
   "pygments_lexer": "ipython3",
   "version": "3.7.0"
  }
 },
 "nbformat": 4,
 "nbformat_minor": 1
}
